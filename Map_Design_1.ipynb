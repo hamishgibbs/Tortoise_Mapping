{
  "nbformat": 4,
  "nbformat_minor": 0,
  "metadata": {
    "colab": {
      "name": "Map_Design_1.ipynb",
      "provenance": [],
      "private_outputs": true,
      "collapsed_sections": []
    },
    "kernelspec": {
      "name": "python3",
      "display_name": "Python 3"
    },
    "accelerator": "GPU"
  },
  "cells": [
    {
      "cell_type": "code",
      "metadata": {
        "id": "WHoodjdWiJMD",
        "colab_type": "code",
        "colab": {}
      },
      "source": [
        "from google.colab import drive\n",
        "from google.colab import files"
      ],
      "execution_count": 0,
      "outputs": []
    },
    {
      "cell_type": "code",
      "metadata": {
        "id": "oqKPa5zZiOpi",
        "colab_type": "code",
        "colab": {}
      },
      "source": [
        "'''\n",
        "To use the functionality in this cell:\n",
        "  Select 'Runtime'\n",
        "  Select 'Change Runtime Type'\n",
        "  Select 'Python 3', 'GPU', and check 'Omit cell output when saving this notebook'\n",
        "'''\n",
        "\n",
        "#Install and import required packages\n",
        "!ln -sf /opt/bin/nvidia-smi /usr/bin/nvidia-smi\n",
        "!pip install gputil\n",
        "!pip install psutil\n",
        "!pip install humanize\n",
        "\n",
        "import psutil\n",
        "import humanize\n",
        "import os\n",
        "import GPUtil as GPU\n",
        "\n",
        "#Get memory footprint of hosted GPU\n",
        "GPUs = GPU.getGPUs()\n",
        "\n",
        "#Only one GPU on Colab and isn’t guaranteed\n",
        "gpu = GPUs[0]\n",
        "\n",
        "#Print available RAM\n",
        "def printm():\n",
        " process = psutil.Process(os.getpid())\n",
        " print()\n",
        " print(\"Gen RAM Free: \" + humanize.naturalsize( psutil.virtual_memory().available ), \" | Proc size: \" + humanize.naturalsize( process.memory_info().rss))\n",
        " print(\"GPU RAM Free: {0:.0f}MB | Used: {1:.0f}MB | Util {2:3.0f}% | Total {3:.0f}MB\".format(gpu.memoryFree, gpu.memoryUsed, gpu.memoryUtil*100, gpu.memoryTotal))\n",
        "\n",
        "printm()"
      ],
      "execution_count": 0,
      "outputs": []
    },
    {
      "cell_type": "code",
      "metadata": {
        "id": "srSxIZpKiPB4",
        "colab_type": "code",
        "colab": {}
      },
      "source": [
        "#Read and write files directly from google drive\n",
        "drive.mount('/content/drive', force_remount=True)"
      ],
      "execution_count": 0,
      "outputs": []
    },
    {
      "cell_type": "code",
      "metadata": {
        "id": "WHseZ_tm3rr8",
        "colab_type": "code",
        "colab": {}
      },
      "source": [
        "!pip install rasterio\n",
        "!pip install geopandas\n",
        "!apt-get install libgeos-3.5.0\n",
        "!apt-get install libgeos-dev\n",
        "!pip install https://github.com/matplotlib/basemap/archive/master.zip\n",
        "!pip install pyproj==1.9.6"
      ],
      "execution_count": 0,
      "outputs": []
    },
    {
      "cell_type": "code",
      "metadata": {
        "id": "qmAmPMq9iRG5",
        "colab_type": "code",
        "colab": {}
      },
      "source": [
        "import matplotlib.pyplot as plt\n",
        "from matplotlib.pyplot import figure\n",
        "from mpl_toolkits.basemap import Basemap\n",
        "from mpl_toolkits.axes_grid1.anchored_artists import AnchoredSizeBar\n",
        "from matplotlib.colors import LightSource, LinearSegmentedColormap\n",
        "import rasterio\n",
        "import rasterio.plot as rplot\n",
        "from rasterio.warp import calculate_default_transform, reproject, Resampling\n",
        "import geopandas as gpd\n",
        "import numpy as np\n",
        "from descartes import PolygonPatch\n",
        "import fiona"
      ],
      "execution_count": 0,
      "outputs": []
    },
    {
      "cell_type": "code",
      "metadata": {
        "id": "CPlwjV9hj4Dl",
        "colab_type": "code",
        "colab": {}
      },
      "source": [
        "a_vect = gpd.read_file('drive/My Drive/Hamish mapping/Hamish mapping/useful general mapping data - elevation and perimeter/Linea_Costa/PERFIL_Project.shp', driver='ESRI Shapefile')\n",
        "a_dem = rasterio.open('drive/My Drive/Hamish mapping/Hamish mapping/Environmental layers/DEM/Elevation.tif')\n",
        "#a_vect = gpd.read_file('drive/My Drive/Hamish mapping/Hamish mapping/Environmental layers/Shp/Island_volcanos_wgs.shp', driver='ESRI Shapefile')"
      ],
      "execution_count": 0,
      "outputs": []
    },
    {
      "cell_type": "code",
      "metadata": {
        "id": "PgHTZ2AH4bwa",
        "colab_type": "code",
        "colab": {}
      },
      "source": [
        "#Check crs of each dataset\n",
        "print(a_vect.crs)\n",
        "print(a_dem.crs)"
      ],
      "execution_count": 0,
      "outputs": []
    },
    {
      "cell_type": "code",
      "metadata": {
        "id": "-w5eTlzAK3lb",
        "colab_type": "code",
        "colab": {}
      },
      "source": [
        "a_dem_data = a_dem.read()\n",
        "type(a_dem_data)"
      ],
      "execution_count": 0,
      "outputs": []
    },
    {
      "cell_type": "code",
      "metadata": {
        "id": "JLgt-iOKynw6",
        "colab_type": "code",
        "colab": {}
      },
      "source": [
        "#losing spatial reference here\n",
        "dem_meta = a_dem.profile\n",
        "\n",
        "#Read data from rasterio reader, read the first (and only) band\n",
        "a_dem_data = a_dem.read()[0]\n",
        "\n",
        "#Replace file NA value with np.nan\n",
        "a_dem_data[a_dem_data==a_dem.nodatavals[0]] = np.nan\n",
        "\n",
        "#Replace 0 elevation values with np.nan\n",
        "a_dem_data[a_dem_data==0] = np.nan\n",
        "\n",
        "with rasterio.open('drive/My Drive/Hamish mapping/Hamish mapping/tmp/DEM_nan.tif', 'w', **dem_meta) as dst:\n",
        "    dst.write(a_dem_data, 1)\n",
        "    \n",
        "a_dem_data = rasterio.open('drive/My Drive/Hamish mapping/Hamish mapping/tmp/DEM_nan.tif')"
      ],
      "execution_count": 0,
      "outputs": []
    },
    {
      "cell_type": "code",
      "metadata": {
        "id": "3ak6COp9cAEn",
        "colab_type": "code",
        "colab": {}
      },
      "source": [
        "#create a hillshade layer fromt he elevation dem\n",
        "ls = LightSource(azdeg=315, altdeg=45)\n",
        "cmap = plt.cm.gist_earth\n",
        "hillshade = ls.hillshade(a_dem_data.read(1), vert_exag=1, dx=a_dem_data.width, dy=a_dem_data.height, fraction=1.0)\n",
        "\n",
        "with rasterio.open('drive/My Drive/Hamish mapping/Hamish mapping/tmp/hillshade.tif', 'w', **dem_meta) as dst:\n",
        "    dst.write(hillshade, 1)\n",
        "    \n",
        "hillshade = rasterio.open('drive/My Drive/Hamish mapping/Hamish mapping/tmp/hillshade.tif')"
      ],
      "execution_count": 0,
      "outputs": []
    },
    {
      "cell_type": "code",
      "metadata": {
        "id": "U5IM4LOGdsat",
        "colab_type": "code",
        "colab": {}
      },
      "source": [
        "#truncate the gist_earth colormap to take out blue values\n",
        "def truncate_colormap(cmap, minval=0.0, maxval=1.0, n=100):\n",
        "    new_cmap = LinearSegmentedColormap.from_list(\n",
        "        'trunc({n},{a:.2f},{b:.2f})'.format(n=cmap.name, a=minval, b=maxval),\n",
        "        cmap(np.linspace(minval, maxval, n)))\n",
        "    return new_cmap\n",
        "\n",
        "#color references:\n",
        "#https://matplotlib.org/3.1.0/tutorials/colors/colormaps.html\n",
        "#https://matplotlib.org/3.1.0/gallery/color/named_colors.html"
      ],
      "execution_count": 0,
      "outputs": []
    },
    {
      "cell_type": "code",
      "metadata": {
        "id": "viuEhVlGfVMA",
        "colab_type": "code",
        "colab": {}
      },
      "source": [
        "#New cmap\n",
        "cmap = plt.get_cmap('gist_earth')\n",
        "new_cmap = truncate_colormap(cmap, 0.4, 1.0)"
      ],
      "execution_count": 0,
      "outputs": []
    },
    {
      "cell_type": "code",
      "metadata": {
        "id": "WkPs_e6tMvk-",
        "colab_type": "code",
        "colab": {}
      },
      "source": [
        "#make linwidth thicker, put under the raster\n",
        "plt.rcParams[\"figure.figsize\"] = [20,10]\n",
        "ax = a_vect.geometry.plot(color='k', linewidth=0.75)\n",
        "\n",
        "ax.grid(True, color='k', alpha=0.3)\n",
        "ax.set_facecolor('lightblue')\n",
        "\n",
        "#plot hillshade layer\n",
        "ax.imshow(hillshade.read(1), \n",
        "          extent=(a_dem_data.bounds[0], a_dem_data.bounds[2], a_dem_data.bounds[1], a_dem_data.bounds[3]),\n",
        "          cmap='gray')\n",
        "\n",
        "#plot terrain color layer\n",
        "ax.imshow(a_dem_data.read(1), \n",
        "          extent=(a_dem_data.bounds[0], a_dem_data.bounds[2], a_dem_data.bounds[1], a_dem_data.bounds[3]),\n",
        "          cmap=new_cmap,\n",
        "          alpha=0.6)"
      ],
      "execution_count": 0,
      "outputs": []
    },
    {
      "cell_type": "code",
      "metadata": {
        "id": "xy-3nNkzMCob",
        "colab_type": "code",
        "colab": {}
      },
      "source": [
        "#Simple layout here"
      ],
      "execution_count": 0,
      "outputs": []
    },
    {
      "cell_type": "code",
      "metadata": {
        "id": "nAWnG5aoMFBu",
        "colab_type": "code",
        "colab": {}
      },
      "source": [
        "#Bounding box analysis in new file"
      ],
      "execution_count": 0,
      "outputs": []
    },
    {
      "cell_type": "code",
      "metadata": {
        "id": "cVXfIvF0RLBu",
        "colab_type": "code",
        "colab": {}
      },
      "source": [
        "#Check with J about colors, hillshading, and terrain colors\n",
        "#add additional information, scale bar, north arrow, credits\n",
        "\n",
        "#create map with 'subtle' theme for plotting other raster data\n",
        "\n",
        "#Wrap everything into a class - i.e. colormap(island, etc.)\n",
        "#create class method, colormap.add_data(data, etc.)\n",
        "\n",
        "#island bbox - by volcano dataset"
      ],
      "execution_count": 0,
      "outputs": []
    }
  ]
}