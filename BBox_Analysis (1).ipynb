{
  "nbformat": 4,
  "nbformat_minor": 0,
  "metadata": {
    "colab": {
      "name": "BBox_Analysis.ipynb",
      "provenance": [],
      "collapsed_sections": []
    },
    "kernelspec": {
      "name": "python3",
      "display_name": "Python 3"
    }
  },
  "cells": [
    {
      "cell_type": "code",
      "metadata": {
        "id": "HO3G5p1OKAOr",
        "colab_type": "code",
        "colab": {
          "base_uri": "https://localhost:8080/",
          "height": 122
        },
        "outputId": "c8a6bc0f-4891-487a-d5b5-658ce71c9497"
      },
      "source": [
        "from google.colab import drive\n",
        "from google.colab import files\n",
        "\n",
        "#Read and write files directly from google drive\n",
        "drive.mount('/content/drive', force_remount=True)"
      ],
      "execution_count": 1,
      "outputs": [
        {
          "output_type": "stream",
          "text": [
            "Go to this URL in a browser: https://accounts.google.com/o/oauth2/auth?client_id=947318989803-6bn6qk8qdgf4n4g3pfee6491hc0brc4i.apps.googleusercontent.com&redirect_uri=urn%3Aietf%3Awg%3Aoauth%3A2.0%3Aoob&scope=email%20https%3A%2F%2Fwww.googleapis.com%2Fauth%2Fdocs.test%20https%3A%2F%2Fwww.googleapis.com%2Fauth%2Fdrive%20https%3A%2F%2Fwww.googleapis.com%2Fauth%2Fdrive.photos.readonly%20https%3A%2F%2Fwww.googleapis.com%2Fauth%2Fpeopleapi.readonly&response_type=code\n",
            "\n",
            "Enter your authorization code:\n",
            "··········\n",
            "Mounted at /content/drive\n"
          ],
          "name": "stdout"
        }
      ]
    },
    {
      "cell_type": "code",
      "metadata": {
        "id": "53rTxn17KdAx",
        "colab_type": "code",
        "colab": {
          "base_uri": "https://localhost:8080/",
          "height": 530
        },
        "outputId": "4566d7c9-d011-4f39-971f-a0d6981fcf57"
      },
      "source": [
        "#install packages missing from the Colab environment\n",
        "!pip install geopandas\n",
        "!pip install rasterio"
      ],
      "execution_count": 56,
      "outputs": [
        {
          "output_type": "stream",
          "text": [
            "Requirement already satisfied: geopandas in /usr/local/lib/python3.6/dist-packages (0.6.1)\n",
            "Requirement already satisfied: shapely in /usr/local/lib/python3.6/dist-packages (from geopandas) (1.6.4.post2)\n",
            "Requirement already satisfied: pyproj in /usr/local/lib/python3.6/dist-packages (from geopandas) (2.4.0)\n",
            "Requirement already satisfied: pandas>=0.23.0 in /usr/local/lib/python3.6/dist-packages (from geopandas) (0.24.2)\n",
            "Requirement already satisfied: fiona in /usr/local/lib/python3.6/dist-packages (from geopandas) (1.8.8)\n",
            "Requirement already satisfied: python-dateutil>=2.5.0 in /usr/local/lib/python3.6/dist-packages (from pandas>=0.23.0->geopandas) (2.5.3)\n",
            "Requirement already satisfied: pytz>=2011k in /usr/local/lib/python3.6/dist-packages (from pandas>=0.23.0->geopandas) (2018.9)\n",
            "Requirement already satisfied: numpy>=1.12.0 in /usr/local/lib/python3.6/dist-packages (from pandas>=0.23.0->geopandas) (1.16.5)\n",
            "Requirement already satisfied: munch in /usr/local/lib/python3.6/dist-packages (from fiona->geopandas) (2.3.2)\n",
            "Requirement already satisfied: click<8,>=4.0 in /usr/local/lib/python3.6/dist-packages (from fiona->geopandas) (7.0)\n",
            "Requirement already satisfied: six>=1.7 in /usr/local/lib/python3.6/dist-packages (from fiona->geopandas) (1.12.0)\n",
            "Requirement already satisfied: cligj>=0.5 in /usr/local/lib/python3.6/dist-packages (from fiona->geopandas) (0.5.0)\n",
            "Requirement already satisfied: attrs>=17 in /usr/local/lib/python3.6/dist-packages (from fiona->geopandas) (19.2.0)\n",
            "Requirement already satisfied: click-plugins>=1.0 in /usr/local/lib/python3.6/dist-packages (from fiona->geopandas) (1.1.1)\n",
            "Collecting rasterio\n",
            "\u001b[?25l  Downloading https://files.pythonhosted.org/packages/5d/b5/a526d414acc152b2152731c28dbff6700e43d730d08b9ebc17a77c8fd939/rasterio-1.1.0-cp36-cp36m-manylinux1_x86_64.whl (15.1MB)\n",
            "\u001b[K     |████████████████████████████████| 15.1MB 5.0MB/s \n",
            "\u001b[?25hRequirement already satisfied: click-plugins in /usr/local/lib/python3.6/dist-packages (from rasterio) (1.1.1)\n",
            "Requirement already satisfied: numpy in /usr/local/lib/python3.6/dist-packages (from rasterio) (1.16.5)\n",
            "Requirement already satisfied: click<8,>=4.0 in /usr/local/lib/python3.6/dist-packages (from rasterio) (7.0)\n",
            "Collecting snuggs>=1.4.1 (from rasterio)\n",
            "  Downloading https://files.pythonhosted.org/packages/cc/0e/d27d6e806d6c0d1a2cfdc5d1f088e42339a0a54a09c3343f7f81ec8947ea/snuggs-1.4.7-py3-none-any.whl\n",
            "Collecting affine (from rasterio)\n",
            "  Downloading https://files.pythonhosted.org/packages/ac/a6/1a39a1ede71210e3ddaf623982b06ecfc5c5c03741ae659073159184cd3e/affine-2.3.0-py2.py3-none-any.whl\n",
            "Requirement already satisfied: attrs in /usr/local/lib/python3.6/dist-packages (from rasterio) (19.2.0)\n",
            "Requirement already satisfied: cligj>=0.5 in /usr/local/lib/python3.6/dist-packages (from rasterio) (0.5.0)\n",
            "Requirement already satisfied: pyparsing>=2.1.6 in /usr/local/lib/python3.6/dist-packages (from snuggs>=1.4.1->rasterio) (2.4.2)\n",
            "Installing collected packages: snuggs, affine, rasterio\n",
            "Successfully installed affine-2.3.0 rasterio-1.1.0 snuggs-1.4.7\n"
          ],
          "name": "stdout"
        }
      ]
    },
    {
      "cell_type": "code",
      "metadata": {
        "id": "v7CwjyroKL6a",
        "colab_type": "code",
        "colab": {}
      },
      "source": [
        "#Import required packages\n",
        "import geopandas as gpd\n",
        "import rasterio\n",
        "from shapely.geometry import mapping\n",
        "import matplotlib.pyplot as plt"
      ],
      "execution_count": 0,
      "outputs": []
    },
    {
      "cell_type": "code",
      "metadata": {
        "id": "f5HUUov9Ki08",
        "colab_type": "code",
        "colab": {}
      },
      "source": [
        "#Read in the file of volcano polygons\n",
        "volcanoes = gpd.read_file('drive/My Drive/Hamish mapping/Hamish mapping/Environmental layers/Shp/Island_volcanos_wgs.shp', \n",
        "                          driver='ESRI Shapefile')"
      ],
      "execution_count": 0,
      "outputs": []
    },
    {
      "cell_type": "code",
      "metadata": {
        "id": "EDTheV_ALAM6",
        "colab_type": "code",
        "colab": {
          "base_uri": "https://localhost:8080/",
          "height": 456
        },
        "outputId": "bebf288e-b150-4f19-b7be-e58906239fc2"
      },
      "source": [
        "#Inspect the data\n",
        "volcanoes.plot()\n",
        "volcanoes.head()"
      ],
      "execution_count": 11,
      "outputs": [
        {
          "output_type": "execute_result",
          "data": {
            "text/html": [
              "<div>\n",
              "<style scoped>\n",
              "    .dataframe tbody tr th:only-of-type {\n",
              "        vertical-align: middle;\n",
              "    }\n",
              "\n",
              "    .dataframe tbody tr th {\n",
              "        vertical-align: top;\n",
              "    }\n",
              "\n",
              "    .dataframe thead th {\n",
              "        text-align: right;\n",
              "    }\n",
              "</style>\n",
              "<table border=\"1\" class=\"dataframe\">\n",
              "  <thead>\n",
              "    <tr style=\"text-align: right;\">\n",
              "      <th></th>\n",
              "      <th>Name</th>\n",
              "      <th>geometry</th>\n",
              "    </tr>\n",
              "  </thead>\n",
              "  <tbody>\n",
              "    <tr>\n",
              "      <th>0</th>\n",
              "      <td>Espanola</td>\n",
              "      <td>POLYGON ((-89.69950 -1.34436, -89.69945 -1.344...</td>\n",
              "    </tr>\n",
              "    <tr>\n",
              "      <th>1</th>\n",
              "      <td>Floreana</td>\n",
              "      <td>POLYGON ((-90.42574 -1.22018, -90.42563 -1.220...</td>\n",
              "    </tr>\n",
              "    <tr>\n",
              "      <th>2</th>\n",
              "      <td>Santa Fe</td>\n",
              "      <td>POLYGON ((-90.08709 -0.79870, -90.08690 -0.798...</td>\n",
              "    </tr>\n",
              "    <tr>\n",
              "      <th>3</th>\n",
              "      <td>San Cristobal</td>\n",
              "      <td>POLYGON ((-89.35033 -0.68657, -89.35023 -0.686...</td>\n",
              "    </tr>\n",
              "    <tr>\n",
              "      <th>4</th>\n",
              "      <td>Pinzon</td>\n",
              "      <td>POLYGON ((-90.67279 -0.58736, -90.67264 -0.587...</td>\n",
              "    </tr>\n",
              "  </tbody>\n",
              "</table>\n",
              "</div>"
            ],
            "text/plain": [
              "            Name                                           geometry\n",
              "0       Espanola  POLYGON ((-89.69950 -1.34436, -89.69945 -1.344...\n",
              "1       Floreana  POLYGON ((-90.42574 -1.22018, -90.42563 -1.220...\n",
              "2       Santa Fe  POLYGON ((-90.08709 -0.79870, -90.08690 -0.798...\n",
              "3  San Cristobal  POLYGON ((-89.35033 -0.68657, -89.35023 -0.686...\n",
              "4         Pinzon  POLYGON ((-90.67279 -0.58736, -90.67264 -0.587..."
            ]
          },
          "metadata": {
            "tags": []
          },
          "execution_count": 11
        },
        {
          "output_type": "display_data",
          "data": {
            "image/png": "[encoded data removed]",
            "text/plain": [
              "<Figure size 432x288 with 1 Axes>"
            ]
          },
          "metadata": {
            "tags": []
          }
        }
      ]
    },
    {
      "cell_type": "code",
      "metadata": {
        "id": "6brXG5FDLMHo",
        "colab_type": "code",
        "colab": {
          "base_uri": "https://localhost:8080/",
          "height": 340
        },
        "outputId": "17776176-8740-43b2-c822-bf9d4c149631"
      },
      "source": [
        "#List each unique name in the volcanoes dataset\n",
        "volcano_names = list(volcanoes.Name.unique())\n",
        "volcano_names"
      ],
      "execution_count": 112,
      "outputs": [
        {
          "output_type": "execute_result",
          "data": {
            "text/plain": [
              "['Espanola',\n",
              " 'Floreana',\n",
              " 'Santa Fe',\n",
              " 'San Cristobal',\n",
              " 'Pinzon',\n",
              " 'Santa Cruz',\n",
              " 'Baltra',\n",
              " 'Rabida',\n",
              " 'Seymour',\n",
              " 'Fernandina',\n",
              " 'Santiago',\n",
              " 'Genovesa',\n",
              " 'Marchena',\n",
              " 'Pinta',\n",
              " 'Alcedo',\n",
              " 'Darwin',\n",
              " 'Ecuador',\n",
              " 'South',\n",
              " 'Wolf']"
            ]
          },
          "metadata": {
            "tags": []
          },
          "execution_count": 112
        }
      ]
    },
    {
      "cell_type": "code",
      "metadata": {
        "id": "figPar6YLX3n",
        "colab_type": "code",
        "colab": {}
      },
      "source": [
        "#Create a dictionary to store (island : bounding_box) pairs\n",
        "bbox = {}\n",
        "\n",
        "#Store one bounding box for the entire archipelago\n",
        "#Note: this is an array, not a Polygon\n",
        "bbox['Archipelago'] = volcanoes.total_bounds\n",
        "\n",
        "#Store one bbox for all of isabela\n",
        "isabela_list = ['Darwin', 'Alcedo', 'Ecuador', 'South', 'Wolf']\n",
        "bbox['Isabela'] = volcanoes[volcanoes['Name'].isin(isabela_list)].total_bounds\n",
        "\n",
        "#Store one bounding box for each volcano\n",
        "for island in volcano_names:\n",
        "  bbox[island] = volcanoes[volcanoes['Name']==island].envelope"
      ],
      "execution_count": 0,
      "outputs": []
    },
    {
      "cell_type": "code",
      "metadata": {
        "id": "QgNr5cJatJiH",
        "colab_type": "code",
        "colab": {
          "base_uri": "https://localhost:8080/",
          "height": 34
        },
        "outputId": "648f2439-0748-44f5-8a77-ad7d0fd96448"
      },
      "source": [
        "bbox['Isabela'][0]"
      ],
      "execution_count": 262,
      "outputs": [
        {
          "output_type": "execute_result",
          "data": {
            "text/plain": [
              "-91.59555645096941"
            ]
          },
          "metadata": {
            "tags": []
          },
          "execution_count": 262
        }
      ]
    },
    {
      "cell_type": "code",
      "metadata": {
        "id": "klprdr-LSb49",
        "colab_type": "code",
        "colab": {}
      },
      "source": [
        "#Define functions for extracting a matplotlib compatible xlim and ylim from the bounding box\n",
        "def x_lim_island(bboxes, island):\n",
        "  \n",
        "  zoom_factor = 0.15\n",
        "  \n",
        "  if island in ['Archipelago', 'Isabela']:\n",
        "    xmin = bbox[island][0]\n",
        "    xmax = bbox[island][2]\n",
        "    \n",
        "    zoom = (xmax - xmin) * zoom_factor\n",
        "    \n",
        "    return(xmin - zoom, xmax + zoom)\n",
        "  \n",
        "  else:\n",
        "    xmin = mapping(bboxes[island])['bbox'][0]\n",
        "    xmax = mapping(bboxes[island])['bbox'][2]\n",
        "  \n",
        "    zoom = (xmax - xmin) * zoom_factor\n",
        "  \n",
        "    return(xmin - zoom, xmax + zoom)\n",
        "\n",
        "def y_lim_island(bboxes, island):\n",
        "  \n",
        "  zoom_factor = 0.15\n",
        "  \n",
        "  if island in ['Archipelago', 'Isabela']:\n",
        "    ymin = bbox[island][1]\n",
        "    ymax = bbox[island][3]\n",
        "    \n",
        "    zoom = (ymax - ymin) * zoom_factor\n",
        "    \n",
        "    return(ymin - zoom, ymax + zoom)\n",
        "  \n",
        "  else:\n",
        "    ymin = mapping(bboxes[island])['bbox'][1]\n",
        "    ymax = mapping(bboxes[island])['bbox'][3]\n",
        "  \n",
        "    zoom = (ymax - ymin) * zoom_factor\n",
        "  \n",
        "    return(ymin - zoom, ymax + zoom)"
      ],
      "execution_count": 0,
      "outputs": []
    },
    {
      "cell_type": "code",
      "metadata": {
        "id": "z1fvA3-TNXA_",
        "colab_type": "code",
        "colab": {}
      },
      "source": [
        "#Test on an environmental dataset\n",
        "hillshade = rasterio.open('drive/My Drive/Hamish mapping/Hamish mapping/tmp/hillshade.tif')"
      ],
      "execution_count": 0,
      "outputs": []
    },
    {
      "cell_type": "code",
      "metadata": {
        "id": "dGf0NOGCP77r",
        "colab_type": "code",
        "colab": {
          "base_uri": "https://localhost:8080/",
          "height": 286
        },
        "outputId": "717b3cf3-ca22-4e5f-b36a-52415fac5172"
      },
      "source": [
        "#Name of the island to plot\n",
        "island_to_plot = 'Isabela'\n",
        "\n",
        "ax = volcanoes.boundary.plot(color='k', linewidth=0.75)\n",
        "\n",
        "plt.imshow(hillshade.read(1), \n",
        "          extent=(hillshade.bounds[0], hillshade.bounds[2], hillshade.bounds[1], hillshade.bounds[3]),\n",
        "          cmap='gray')\n",
        "\n",
        "plt.xlim(x_lim_island(bbox, island_to_plot))\n",
        "\n",
        "plt.ylim(y_lim_island(bbox, island_to_plot))"
      ],
      "execution_count": 255,
      "outputs": [
        {
          "output_type": "execute_result",
          "data": {
            "text/plain": [
              "(-1.240418595321873, 0.35025807443063)"
            ]
          },
          "metadata": {
            "tags": []
          },
          "execution_count": 255
        },
        {
          "output_type": "display_data",
          "data": {
            "image/png": "[encoded data removed]",
            "text/plain": [
              "<Figure size 432x288 with 1 Axes>"
            ]
          },
          "metadata": {
            "tags": []
          }
        }
      ]
    },
    {
      "cell_type": "code",
      "metadata": {
        "id": "Z3oNaTwBcINE",
        "colab_type": "code",
        "colab": {}
      },
      "source": [
        "#Define a Bounding Boxes class to store all calculations and methods for plotting\n",
        "class Bounding_Boxes:\n",
        "\n",
        "  #Instantiate Bounding_Boxes class using vector data - this class is written specifically to accept volcano specific data\n",
        "  def __init__(self, vector_data):\n",
        "    \n",
        "    #Add vector_data attribute to inspect original vector data\n",
        "    self.vector_data = vector_data\n",
        "    \n",
        "    bbox = {}\n",
        "    bbox['Archipelago'] = vector_data.total_bounds\n",
        "    \n",
        "    isabela_list = ['Darwin', 'Alcedo', 'Ecuador', 'South', 'Wolf']\n",
        "    \n",
        "    bbox['Isabela'] = vector_data[vector_data['Name'].isin(isabela_list)].total_bounds\n",
        "    \n",
        "    for island in list(vector_data.Name.unique()):\n",
        "      bbox[island] = vector_data[vector_data['Name']==island].envelope\n",
        "    self.bboxes = bbox\n",
        "    \n",
        "    #Add volcano_names class to inspect all unique volcano names (useful for plotting)\n",
        "    volcano_names = list(vector_data.Name.unique()) + ['Archipelago'] + ['Isabela']\n",
        "    self.volcano_names = volcano_names\n",
        "      \n",
        "  #Define a method to create matplotlib compatible xlim\n",
        "  def x_lim_island(self, island, zoom_factor=0.15):\n",
        "    \n",
        "    #Define the factor by which to zoom out x axis (this could be made into two zooms L & R)\n",
        "    #z_factor = 0.15 means that 15% of the total boundign box will be added to both sides\n",
        "    #This scales with the size of the island to add a border to all plots\n",
        "    z_factor = zoom_factor\n",
        "    \n",
        "    #Archipelago is a ndarray data type not a Shapely Polygon\n",
        "    if island in ['Archipelago', 'Isabela']:\n",
        "      xmin = self.bboxes[island][0]\n",
        "      xmax = self.bboxes[island][2]\n",
        "    \n",
        "      zoom = (xmax - xmin) * z_factor\n",
        "      \n",
        "      #Returns xlim ready for the plt.xlim function\n",
        "      return(xmin - zoom, xmax + zoom)\n",
        "    \n",
        "    #Extract coordinates from Shapely Polygon bounding boxes\n",
        "    else:\n",
        "      xmin = mapping(self.bboxes[island])['bbox'][0]\n",
        "      xmax = mapping(self.bboxes[island])['bbox'][2]\n",
        "  \n",
        "      zoom = (xmax - xmin) * z_factor\n",
        "    \n",
        "      #Returns xlim ready for the plt.xlim function    \n",
        "      return(xmin - zoom, xmax + zoom)\n",
        "\n",
        "  #Copy of x_lim_island for the y axis\n",
        "  def y_lim_island(self, island, zoom_factor=0.15):\n",
        "  \n",
        "    z_factor = zoom_factor\n",
        "  \n",
        "    if island in ['Archipelago', 'Isabela']:\n",
        "      ymin = self.bboxes[island][1]\n",
        "      ymax = self.bboxes[island][3]\n",
        "    \n",
        "      zoom = (ymax - ymin) * z_factor\n",
        "      \n",
        "      return(ymin - zoom, ymax + zoom)\n",
        "  \n",
        "    else:\n",
        "      ymin = mapping(self.bboxes[island])['bbox'][1]\n",
        "      ymax = mapping(self.bboxes[island])['bbox'][3]\n",
        "    \n",
        "      zoom = (ymax - ymin) * z_factor\n",
        "  \n",
        "      return(ymin - zoom, ymax + zoom) "
      ],
      "execution_count": 0,
      "outputs": []
    },
    {
      "cell_type": "code",
      "metadata": {
        "id": "Qbt1oTBgcmR4",
        "colab_type": "code",
        "colab": {}
      },
      "source": [
        "#Test with the new class\n",
        "#Import hillshade data\n",
        "a_dem = rasterio.open('drive/My Drive/Hamish mapping/Hamish mapping/Environmental layers/DEM/Elevation.tif')\n",
        "\n",
        "#Create a Bounding_Boxes class with the volcano data\n",
        "island_boxes = Bounding_Boxes(volcanoes)"
      ],
      "execution_count": 0,
      "outputs": []
    },
    {
      "cell_type": "code",
      "metadata": {
        "id": "x4Mfimfdhil_",
        "colab_type": "code",
        "colab": {
          "base_uri": "https://localhost:8080/",
          "height": 374
        },
        "outputId": "fc37a22d-5b63-49f2-e804-2a6c9fba56c0"
      },
      "source": [
        "#Use example:\n",
        "#Inspect the unique names for different volcanoes:\n",
        "island_boxes.volcano_names"
      ],
      "execution_count": 275,
      "outputs": [
        {
          "output_type": "execute_result",
          "data": {
            "text/plain": [
              "['Espanola',\n",
              " 'Floreana',\n",
              " 'Santa Fe',\n",
              " 'San Cristobal',\n",
              " 'Pinzon',\n",
              " 'Santa Cruz',\n",
              " 'Baltra',\n",
              " 'Rabida',\n",
              " 'Seymour',\n",
              " 'Fernandina',\n",
              " 'Santiago',\n",
              " 'Genovesa',\n",
              " 'Marchena',\n",
              " 'Pinta',\n",
              " 'Alcedo',\n",
              " 'Darwin',\n",
              " 'Ecuador',\n",
              " 'South',\n",
              " 'Wolf',\n",
              " 'Archipelago',\n",
              " 'Isabela']"
            ]
          },
          "metadata": {
            "tags": []
          },
          "execution_count": 275
        }
      ]
    },
    {
      "cell_type": "code",
      "metadata": {
        "id": "3MDg9xqecpKa",
        "colab_type": "code",
        "colab": {
          "base_uri": "https://localhost:8080/",
          "height": 286
        },
        "outputId": "15af653f-0da2-46a8-c5fc-c3533437c8d5"
      },
      "source": [
        "volcano_to_plot = 'Isabela'\n",
        "\n",
        "plt.imshow(hillshade.read(1), \n",
        "          extent=(hillshade.bounds[0], hillshade.bounds[2], hillshade.bounds[1], hillshade.bounds[3]),\n",
        "          cmap='gray')\n",
        "\n",
        "plt.xlim(island_boxes.x_lim_island(volcano_to_plot))\n",
        "plt.ylim(island_boxes.y_lim_island(volcano_to_plot))"
      ],
      "execution_count": 276,
      "outputs": [
        {
          "output_type": "execute_result",
          "data": {
            "text/plain": [
              "(-1.240418595321873, 0.35025807443063)"
            ]
          },
          "metadata": {
            "tags": []
          },
          "execution_count": 276
        },
        {
          "output_type": "display_data",
          "data": {
            "image/png": "[encoded data removed]",
            "text/plain": [
              "<Figure size 432x288 with 1 Axes>"
            ]
          },
          "metadata": {
            "tags": []
          }
        }
      ]
    },
    {
      "cell_type": "code",
      "metadata": {
        "id": "xPjkkXw6h7Kh",
        "colab_type": "code",
        "colab": {
          "base_uri": "https://localhost:8080/",
          "height": 286
        },
        "outputId": "759e71af-b7b4-44d4-a14f-42e2ceafc95a"
      },
      "source": [
        "#Example with extreme y zoom out\n",
        "volcano_to_plot = 'Baltra'\n",
        "\n",
        "plt.imshow(hillshade.read(1), \n",
        "          extent=(hillshade.bounds[0], hillshade.bounds[2], hillshade.bounds[1], hillshade.bounds[3]),\n",
        "          cmap='gray')\n",
        "\n",
        "plt.xlim(island_boxes.x_lim_island(volcano_to_plot))\n",
        "plt.ylim(island_boxes.y_lim_island(volcano_to_plot, 0.9))"
      ],
      "execution_count": 198,
      "outputs": [
        {
          "output_type": "execute_result",
          "data": {
            "text/plain": [
              "(-0.5501591301497285, -0.34507396907832233)"
            ]
          },
          "metadata": {
            "tags": []
          },
          "execution_count": 198
        },
        {
          "output_type": "display_data",
          "data": {
            "image/png": "[encoded data removed]",
            "text/plain": [
              "<Figure size 432x288 with 1 Axes>"
            ]
          },
          "metadata": {
            "tags": []
          }
        }
      ]
    },
    {
      "cell_type": "code",
      "metadata": {
        "id": "C8cYXZm1iLPO",
        "colab_type": "code",
        "colab": {
          "base_uri": "https://localhost:8080/",
          "height": 286
        },
        "outputId": "d9718923-2b67-48e2-de2c-11f68c10dd29"
      },
      "source": [
        "#Example with extreme x zoom out\n",
        "volcano_to_plot = 'Baltra'\n",
        "\n",
        "plt.imshow(hillshade.read(1), \n",
        "          extent=(hillshade.bounds[0], hillshade.bounds[2], hillshade.bounds[1], hillshade.bounds[3]),\n",
        "          cmap='gray')\n",
        "\n",
        "plt.xlim(island_boxes.x_lim_island(volcano_to_plot, 0.9))\n",
        "plt.ylim(island_boxes.y_lim_island(volcano_to_plot))"
      ],
      "execution_count": 200,
      "outputs": [
        {
          "output_type": "execute_result",
          "data": {
            "text/plain": [
              "(-0.4952256048627447, -0.40000749436530614)"
            ]
          },
          "metadata": {
            "tags": []
          },
          "execution_count": 200
        },
        {
          "output_type": "display_data",
          "data": {
            "image/png": "[encoded data removed]",
            "text/plain": [
              "<Figure size 432x288 with 1 Axes>"
            ]
          },
          "metadata": {
            "tags": []
          }
        }
      ]
    },
    {
      "cell_type": "code",
      "metadata": {
        "id": "6VhG4n27fMXB",
        "colab_type": "code",
        "colab": {}
      },
      "source": [
        "#To add to this, store Bounding_Box class in a seperate file and import it here\n",
        "#i.e. from bbox_class import Bounding_Box"
      ],
      "execution_count": 0,
      "outputs": []
    },
    {
      "cell_type": "code",
      "metadata": {
        "id": "C2DKU4oudAMr",
        "colab_type": "code",
        "colab": {}
      },
      "source": [
        ""
      ],
      "execution_count": 0,
      "outputs": []
    }
  ]
}
