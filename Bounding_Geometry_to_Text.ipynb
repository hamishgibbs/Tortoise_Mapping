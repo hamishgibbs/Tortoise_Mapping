{
  "nbformat": 4,
  "nbformat_minor": 0,
  "metadata": {
    "colab": {
      "name": "Bounding_Geometry_to_Text.ipynb",
      "provenance": [],
      "collapsed_sections": []
    },
    "kernelspec": {
      "name": "python3",
      "display_name": "Python 3"
    }
  },
  "cells": [
    {
      "cell_type": "code",
      "metadata": {
        "id": "_h0tZT5cdwxT",
        "colab_type": "code",
        "colab": {
          "base_uri": "https://localhost:8080/",
          "height": 34
        },
        "outputId": "c231a8ee-e4ec-4a6a-e18e-a059ad9ccd75"
      },
      "source": [
        "from google.colab import drive\n",
        "from google.colab import files\n",
        "\n",
        "#Read and write files directly from google drive\n",
        "drive.mount('/content/drive', force_remount=True)"
      ],
      "execution_count": 24,
      "outputs": [
        {
          "output_type": "stream",
          "text": [
            "Mounted at /content/drive\n"
          ],
          "name": "stdout"
        }
      ]
    },
    {
      "cell_type": "code",
      "metadata": {
        "id": "I1uuQP1beDjo",
        "colab_type": "code",
        "colab": {}
      },
      "source": [
        "#install packages missing from the Colab environment\n",
        "!pip install geopandas\n",
        "!pip install rasterio"
      ],
      "execution_count": 0,
      "outputs": []
    },
    {
      "cell_type": "code",
      "metadata": {
        "id": "PgMTLx5teFW-",
        "colab_type": "code",
        "colab": {}
      },
      "source": [
        "import geopandas as gpd\n",
        "import rasterio\n",
        "import matplotlib.pyplot as plt\n",
        "from matplotlib.colors import LinearSegmentedColormap\n",
        "import numpy as np\n",
        "import pandas as pd"
      ],
      "execution_count": 0,
      "outputs": []
    },
    {
      "cell_type": "code",
      "metadata": {
        "id": "DUkEgHDFd56W",
        "colab_type": "code",
        "colab": {}
      },
      "source": [
        "#Define a Bounding Boxes class to store all calculations and methods for plotting\n",
        "class Bounding_Boxes:\n",
        "\n",
        "  #Instantiate Bounding_Boxes class using vector data - this class is written specifically to accept volcano specific data\n",
        "  def __init__(self, vector_data):\n",
        "    \n",
        "    #Add vector_data attribute to inspect original vector data\n",
        "    self.vector_data = vector_data\n",
        "    \n",
        "    bbox = {}\n",
        "    bbox['Archipelago'] = vector_data.total_bounds\n",
        "    \n",
        "    isabela_list = ['Darwin', 'Alcedo', 'Ecuador', 'South', 'Wolf']\n",
        "    \n",
        "    bbox['Isabela'] = vector_data[vector_data['Name'].isin(isabela_list)].total_bounds\n",
        "    \n",
        "    for island in list(vector_data.Name.unique()):\n",
        "      bbox[island] = vector_data[vector_data['Name']==island].envelope\n",
        "    self.bboxes = bbox\n",
        "    \n",
        "    #Add volcano_names class to inspect all unique volcano names (useful for plotting)\n",
        "    volcano_names = list(vector_data.Name.unique()) + ['Archipelago'] + ['Isabela']\n",
        "    self.volcano_names = volcano_names\n",
        "      \n",
        "  #Define a method to create matplotlib compatible xlim\n",
        "  def x_lim_island(self, island, zoom_factor=0.15):\n",
        "    \n",
        "    #Define the factor by which to zoom out x axis (this could be made into two zooms L & R)\n",
        "    #z_factor = 0.15 means that 15% of the total boundign box will be added to both sides\n",
        "    #This scales with the size of the island to add a border to all plots\n",
        "    z_factor = zoom_factor\n",
        "    \n",
        "    #Archipelago is a ndarray data type not a Shapely Polygon\n",
        "    if island in ['Archipelago', 'Isabela']:\n",
        "      xmin = self.bboxes[island][0]\n",
        "      xmax = self.bboxes[island][2]\n",
        "    \n",
        "      zoom = (xmax - xmin) * z_factor\n",
        "      \n",
        "      #Returns xlim ready for the plt.xlim function\n",
        "      return(xmin - zoom, xmax + zoom)\n",
        "    \n",
        "    #Extract coordinates from Shapely Polygon bounding boxes\n",
        "    else:\n",
        "      xmin = mapping(self.bboxes[island])['bbox'][0]\n",
        "      xmax = mapping(self.bboxes[island])['bbox'][2]\n",
        "  \n",
        "      zoom = (xmax - xmin) * z_factor\n",
        "    \n",
        "      #Returns xlim ready for the plt.xlim function    \n",
        "      return(xmin - zoom, xmax + zoom)\n",
        "\n",
        "  #Copy of x_lim_island for the y axis\n",
        "  def y_lim_island(self, island, zoom_factor=0.15):\n",
        "  \n",
        "    z_factor = zoom_factor\n",
        "  \n",
        "    if island in ['Archipelago', 'Isabela']:\n",
        "      ymin = self.bboxes[island][1]\n",
        "      ymax = self.bboxes[island][3]\n",
        "    \n",
        "      zoom = (ymax - ymin) * z_factor\n",
        "      \n",
        "      return(ymin - zoom, ymax + zoom)\n",
        "  \n",
        "    else:\n",
        "      ymin = mapping(self.bboxes[island])['bbox'][1]\n",
        "      ymax = mapping(self.bboxes[island])['bbox'][3]\n",
        "    \n",
        "      zoom = (ymax - ymin) * z_factor\n",
        "  \n",
        "      return(ymin - zoom, ymax + zoom) "
      ],
      "execution_count": 0,
      "outputs": []
    },
    {
      "cell_type": "code",
      "metadata": {
        "id": "P6Mi50sheOff",
        "colab_type": "code",
        "colab": {}
      },
      "source": [
        "volcanoes = gpd.read_file('drive/My Drive/Hamish mapping/Hamish mapping/Environmental layers/Shp/Island_volcanos_wgs.shp', \n",
        "                          driver='ESRI Shapefile')"
      ],
      "execution_count": 0,
      "outputs": []
    },
    {
      "cell_type": "code",
      "metadata": {
        "id": "u9jzWRWteO5I",
        "colab_type": "code",
        "colab": {
          "base_uri": "https://localhost:8080/",
          "height": 697
        },
        "outputId": "62f5431f-e253-4985-9d66-de87111aa7c8"
      },
      "source": [
        "island_boxes = Bounding_Boxes(volcanoes)\n",
        "island_boxes.bboxes"
      ],
      "execution_count": 41,
      "outputs": [
        {
          "output_type": "execute_result",
          "data": {
            "text/plain": [
              "{'Alcedo': 14    POLYGON ((-91.24849 -0.60717, -90.94138 -0.607...\n",
              " dtype: geometry,\n",
              " 'Archipelago': array([-91.6618164,  -1.4118595, -89.2410713,   0.6436304]),\n",
              " 'Baltra': 6    POLYGON ((-90.29886 -0.48424, -90.24748 -0.484...\n",
              " dtype: geometry,\n",
              " 'Darwin': 15    POLYGON ((-91.41014 -0.38714, -91.10919 -0.387...\n",
              " dtype: geometry,\n",
              " 'Ecuador': 16    POLYGON ((-91.59556 -0.05537, -91.45566 -0.055...\n",
              " dtype: geometry,\n",
              " 'Espanola': 0    POLYGON ((-89.74608 -1.41186, -89.61803 -1.411...\n",
              " dtype: geometry,\n",
              " 'Fernandina': 9    POLYGON ((-91.66182 -0.50665, -91.37685 -0.506...\n",
              " dtype: geometry,\n",
              " 'Floreana': 1    POLYGON ((-90.51124 -1.36024, -90.35227 -1.360...\n",
              " dtype: geometry,\n",
              " 'Genovesa': 11    POLYGON ((-89.97805 0.29971, -89.93585 0.29971...\n",
              " dtype: geometry,\n",
              " 'Isabela': array([-91.59555645,  -1.05687898, -90.77983582,   0.16671846]),\n",
              " 'Marchena': 12    POLYGON ((-90.54310 0.27705, -90.40114 0.27705...\n",
              " dtype: geometry,\n",
              " 'Pinta': 13    POLYGON ((-90.79055 0.53988, -90.71840 0.53988...\n",
              " dtype: geometry,\n",
              " 'Pinzon': 4    POLYGON ((-90.68907 -0.63463, -90.64278 -0.634...\n",
              " dtype: geometry,\n",
              " 'Rabida': 7    POLYGON ((-90.72055 -0.42766, -90.69706 -0.427...\n",
              " dtype: geometry,\n",
              " 'San Cristobal': 3    POLYGON ((-89.62830 -0.95605, -89.24107 -0.956...\n",
              " dtype: geometry,\n",
              " 'Santa Cruz': 5    POLYGON ((-90.55003 -0.77530, -90.16886 -0.775...\n",
              " dtype: geometry,\n",
              " 'Santa Fe': 2    POLYGON ((-90.09149 -0.83991, -90.02750 -0.839...\n",
              " dtype: geometry,\n",
              " 'Santiago': 10    POLYGON ((-90.87168 -0.37514, -90.54637 -0.375...\n",
              " dtype: geometry,\n",
              " 'Seymour': 8    POLYGON ((-90.29360 -0.40096, -90.27585 -0.400...\n",
              " dtype: geometry,\n",
              " 'South': 17    POLYGON ((-91.51578 -1.05688, -90.77984 -1.056...\n",
              " dtype: geometry,\n",
              " 'Wolf': 18    POLYGON ((-91.51033 -0.10545, -91.18462 -0.105...\n",
              " dtype: geometry}"
            ]
          },
          "metadata": {
            "tags": []
          },
          "execution_count": 41
        }
      ]
    },
    {
      "cell_type": "code",
      "metadata": {
        "id": "NmmqSE2q2QUT",
        "colab_type": "code",
        "colab": {}
      },
      "source": [
        "#Try to extract coordinates from polygon to store in array like Isabela and Archipelago\n",
        "\n",
        "#Get full coords, now need BL and UR\n",
        "poly_coords = volcanoes.iloc[0, 1].envelope.exterior.coords.xy"
      ],
      "execution_count": 0,
      "outputs": []
    },
    {
      "cell_type": "code",
      "metadata": {
        "id": "t_xow7dw27tE",
        "colab_type": "code",
        "colab": {
          "base_uri": "https://localhost:8080/",
          "height": 286
        },
        "outputId": "0d69c019-cf6f-466b-936a-716adf93a544"
      },
      "source": [
        "plt.plot(poly_coords[0], poly_coords[1])\n",
        "\n",
        "plt.scatter(poly_coords[0][2], poly_coords[1][2])"
      ],
      "execution_count": 46,
      "outputs": [
        {
          "output_type": "execute_result",
          "data": {
            "text/plain": [
              "<matplotlib.collections.PathCollection at 0x7fc3a89a4080>"
            ]
          },
          "metadata": {
            "tags": []
          },
          "execution_count": 46
        },
        {
          "output_type": "display_data",
          "data": {
            "image/png": "[encoded data removed]",
            "text/plain": [
              "<Figure size 432x288 with 1 Axes>"
            ]
          },
          "metadata": {
            "tags": []
          }
        }
      ]
    },
    {
      "cell_type": "code",
      "metadata": {
        "id": "yocL3Tcg3o33",
        "colab_type": "code",
        "colab": {
          "base_uri": "https://localhost:8080/",
          "height": 34
        },
        "outputId": "79978c09-39e8-49a5-b754-cdfc2461295a"
      },
      "source": [
        "#Bottom Left corner =\n",
        "bl_x_coord = volcanoes.iloc[0, 1].envelope.exterior.coords.xy[0][0]\n",
        "bl_y_coord = volcanoes.iloc[0, 1].envelope.exterior.coords.xy[1][0]\n",
        "ur_x_coord = volcanoes.iloc[0, 1].envelope.exterior.coords.xy[0][2]\n",
        "ur_y_coord = volcanoes.iloc[0, 1].envelope.exterior.coords.xy[1][2]\n",
        "\n",
        "poly_bounds_format = np.array([bl_x_coord, bl_y_coord, ur_x_coord, ur_y_coord])\n",
        "poly_bounds_format"
      ],
      "execution_count": 53,
      "outputs": [
        {
          "output_type": "execute_result",
          "data": {
            "text/plain": [
              "array([-89.7460815,  -1.4118595, -89.6180319,  -1.34431  ])"
            ]
          },
          "metadata": {
            "tags": []
          },
          "execution_count": 53
        }
      ]
    },
    {
      "cell_type": "code",
      "metadata": {
        "id": "B8OsN3yg4Suz",
        "colab_type": "code",
        "colab": {
          "base_uri": "https://localhost:8080/",
          "height": 34
        },
        "outputId": "04fb92b3-1a18-4973-9a9a-9f2fde3a8c72"
      },
      "source": [
        "#check that this is the same as the output from the total_bounds \n",
        "volcanoes.total_bounds"
      ],
      "execution_count": 51,
      "outputs": [
        {
          "output_type": "execute_result",
          "data": {
            "text/plain": [
              "array([-91.6618164,  -1.4118595, -89.2410713,   0.6436304])"
            ]
          },
          "metadata": {
            "tags": []
          },
          "execution_count": 51
        }
      ]
    },
    {
      "cell_type": "code",
      "metadata": {
        "id": "2tcHevlB5Fnc",
        "colab_type": "code",
        "colab": {
          "base_uri": "https://localhost:8080/",
          "height": 34
        },
        "outputId": "9c35ca3c-cd1a-4e72-9ead-f3b471231d37"
      },
      "source": [
        "poly_bounds_format[[0, 2], ]"
      ],
      "execution_count": 59,
      "outputs": [
        {
          "output_type": "execute_result",
          "data": {
            "text/plain": [
              "array([-89.7460815, -89.6180319])"
            ]
          },
          "metadata": {
            "tags": []
          },
          "execution_count": 59
        }
      ]
    },
    {
      "cell_type": "code",
      "metadata": {
        "id": "zK13kf6I4iY1",
        "colab_type": "code",
        "colab": {
          "base_uri": "https://localhost:8080/",
          "height": 286
        },
        "outputId": "c00e130d-762c-43d0-cae0-b1e9d46040cc"
      },
      "source": [
        "plt.plot(poly_bounds_format[[0, 2], ], poly_bounds_format[[1, 3], ])\n",
        "plt.plot(volcanoes.total_bounds[[0, 2], ], volcanoes.total_bounds[[1, 3], ])"
      ],
      "execution_count": 58,
      "outputs": [
        {
          "output_type": "execute_result",
          "data": {
            "text/plain": [
              "[<matplotlib.lines.Line2D at 0x7fc3a8942358>]"
            ]
          },
          "metadata": {
            "tags": []
          },
          "execution_count": 58
        },
        {
          "output_type": "display_data",
          "data": {
            "image/png": "[encoded data removed]",
            "text/plain": [
              "<Figure size 432x288 with 1 Axes>"
            ]
          },
          "metadata": {
            "tags": []
          }
        }
      ]
    },
    {
      "cell_type": "code",
      "metadata": {
        "id": "VvdliS4g5Oh_",
        "colab_type": "code",
        "colab": {}
      },
      "source": [
        "coord_list = {}\n",
        "\n",
        "for i, volcano in enumerate(volcanoes.iloc[:, 0]):\n",
        "  bl_x_coord = volcanoes.iloc[i, 1].envelope.exterior.coords.xy[0][0]\n",
        "  bl_y_coord = volcanoes.iloc[i, 1].envelope.exterior.coords.xy[1][0]\n",
        "  ur_x_coord = volcanoes.iloc[i, 1].envelope.exterior.coords.xy[0][2]\n",
        "  ur_y_coord = volcanoes.iloc[i, 1].envelope.exterior.coords.xy[1][2]\n",
        "\n",
        "  poly_bounds_format = np.array([bl_x_coord, bl_y_coord, ur_x_coord, ur_y_coord])\n",
        "  \n",
        "  coord_list[volcano] = poly_bounds_format\n",
        "\n",
        "coord_list['Archipelago'] = volcanoes.total_bounds\n",
        "isabela_list = ['Darwin', 'Alcedo', 'Ecuador', 'South', 'Wolf']\n",
        "coord_list['Isabela'] = volcanoes[volcanoes['Name'].isin(isabela_list)].total_bounds\n"
      ],
      "execution_count": 0,
      "outputs": []
    },
    {
      "cell_type": "code",
      "metadata": {
        "id": "yVF8Z4Tw5d_R",
        "colab_type": "code",
        "colab": {
          "base_uri": "https://localhost:8080/",
          "height": 269
        },
        "outputId": "641e58c5-92ec-48cf-a5a3-014bd4caac71"
      },
      "source": [
        "for island in coord_list:\n",
        "  plt.plot(coord_list[island][[0, 2], ], coord_list[island][[1, 3], ])"
      ],
      "execution_count": 72,
      "outputs": [
        {
          "output_type": "display_data",
          "data": {
            "image/png": "[encoded data removed]",
            "text/plain": [
              "<Figure size 432x288 with 1 Axes>"
            ]
          },
          "metadata": {
            "tags": []
          }
        }
      ]
    },
    {
      "cell_type": "code",
      "metadata": {
        "id": "eMevWFgweSzl",
        "colab_type": "code",
        "colab": {}
      },
      "source": [
        "import csv\n",
        "\n",
        "path = 'drive/My Drive/Hamish mapping/Hamish mapping/tmp/'\n",
        "bb_file = 'bounding_box_geometry.csv'\n",
        "\n",
        "csvfile = open(path + bb_file, 'w')\n",
        "csvwriter = csv.writer(csvfile, delimiter=',')\n",
        "csvwriter.writerow(['volcano_name', 'min_lon', 'min_lat', 'max_lon', 'max_lat'])\n",
        "\n",
        "for island in coord_list:\n",
        "  csvwriter.writerow([island, coord_list[island][0], coord_list[island][1], coord_list[island][2], coord_list[island][3]])\n",
        "  \n",
        "csvfile.close()\n"
      ],
      "execution_count": 0,
      "outputs": []
    },
    {
      "cell_type": "code",
      "metadata": {
        "id": "DKglylT9g_ix",
        "colab_type": "code",
        "colab": {}
      },
      "source": [
        "string = island_boxes.bboxes[island_boxes.volcano_names[0]]"
      ],
      "execution_count": 0,
      "outputs": []
    },
    {
      "cell_type": "code",
      "metadata": {
        "id": "q7-tw74MeWx1",
        "colab_type": "code",
        "colab": {
          "base_uri": "https://localhost:8080/",
          "height": 34
        },
        "outputId": "46068353-3436-44c1-bba9-ce723f244659"
      },
      "source": [
        "type(string)"
      ],
      "execution_count": 14,
      "outputs": [
        {
          "output_type": "execute_result",
          "data": {
            "text/plain": [
              "geopandas.geoseries.GeoSeries"
            ]
          },
          "metadata": {
            "tags": []
          },
          "execution_count": 14
        }
      ]
    },
    {
      "cell_type": "code",
      "metadata": {
        "id": "W5ySJNY2hGkC",
        "colab_type": "code",
        "colab": {}
      },
      "source": [
        "import csv\n",
        "\n",
        "bbox = {}\n",
        "\n",
        "csv_path = 'drive/My Drive/Hamish mapping/Hamish mapping/tmp//bounding_box_geometry.csv'\n",
        "\n",
        "geometry_csv = open(csv_path, 'r')\n",
        "\n",
        "csv_reader = csv.reader(geometry_csv, delimiter=',')\n",
        "for row in csv_reader:\n",
        "  bbox[row[0]] = row[1]\n",
        "\n",
        "geometry_csv.close()"
      ],
      "execution_count": 0,
      "outputs": []
    },
    {
      "cell_type": "code",
      "metadata": {
        "id": "T2gwfhx014UY",
        "colab_type": "code",
        "colab": {
          "base_uri": "https://localhost:8080/",
          "height": 34
        },
        "outputId": "25ae4c34-c1be-45e2-9821-ecbc4de610e0"
      },
      "source": [
        "bbox['Alcedo']"
      ],
      "execution_count": 20,
      "outputs": [
        {
          "output_type": "execute_result",
          "data": {
            "text/plain": [
              "'14    POLYGON ((-91.24849 -0.60717, -90.94138 -0.607...\\ndtype: geometry'"
            ]
          },
          "metadata": {
            "tags": []
          },
          "execution_count": 20
        }
      ]
    },
    {
      "cell_type": "code",
      "metadata": {
        "id": "8p39k-RR2CRG",
        "colab_type": "code",
        "colab": {}
      },
      "source": [
        ""
      ],
      "execution_count": 0,
      "outputs": []
    }
  ]
}